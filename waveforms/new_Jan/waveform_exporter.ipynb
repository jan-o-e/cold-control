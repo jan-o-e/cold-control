{
 "cells": [
  {
   "cell_type": "code",
   "execution_count": 8,
   "metadata": {},
   "outputs": [],
   "source": [
    "import numpy as np\n",
    "import matplotlib.pyplot as plt\n",
    "import pandas as pd\n",
    "import csv"
   ]
  },
  {
   "cell_type": "code",
   "execution_count": 2,
   "metadata": {},
   "outputs": [
    {
     "data": {
      "image/png": "[encoded data removed]",
      "text/plain": [
       "<Figure size 432x288 with 1 Axes>"
      ]
     },
     "metadata": {
      "needs_background": "light"
     },
     "output_type": "display_data"
    }
   ],
   "source": [
    "awg_sampling_rate = 1\n",
    "lengthRepump=0.175*awg_sampling_rate\n",
    "tRepump,tRepumpStep = np.linspace(0,lengthRepump, int(lengthRepump*1000), retstep=True)\n",
    "\n",
    "a=10\n",
    "n=4\n",
    "c=0.175/3\n",
    "def stokes_shape_plot(t,T):\n",
    "    return (np.exp(-((t - (T/2))/c)**(2*n))*np.cos(np.pi/2*(1/(1 + np.exp((-a*(t - T/2))/T)))))\n",
    "def shape_pump_plot(t,T):\n",
    "    return (np.exp(-((t - (T/2))/c)**(2*n))*np.sin(np.pi/2*(1/(1 + np.exp((-a*(t - T/2))/T)))))\n",
    "\n",
    "plt.plot(tRepump, stokes_shape_plot(tRepump, lengthRepump))\n",
    "plt.plot(tRepump, shape_pump_plot(tRepump, lengthRepump))\n",
    "plt.show()                                                                      "
   ]
  },
  {
   "cell_type": "code",
   "execution_count": 2,
   "metadata": {},
   "outputs": [],
   "source": [
    "def tophat(num_samples, ramp_samples=30):\n",
    "    if num_samples < 2 * ramp_samples:\n",
    "        raise ValueError(\"num_samples must be at least twice ramp_samples.\")\n",
    "    \n",
    "    tophat = np.ones(num_samples)\n",
    "\n",
    "    # Create the ramp using a half-cosine window\n",
    "    ramp_up = 0.5 * (1 - np.cos(np.pi * np.arange(ramp_samples) / ramp_samples))\n",
    "    ramp_down = ramp_up[::-1]\n",
    "\n",
    "    # Apply ramps\n",
    "    tophat[:ramp_samples] = ramp_up\n",
    "    tophat[-ramp_samples:] = ramp_down\n",
    "\n",
    "    return tophat"
   ]
  },
  {
   "cell_type": "code",
   "execution_count": 3,
   "metadata": {},
   "outputs": [],
   "source": [
    "def export_to_csv(array, scale, filepath, filename):\n",
    "    try:\n",
    "        full_path = f\"{filepath}/{filename}\"\n",
    "        \n",
    "        rescaled_arr=np.zeros((len(array)))\n",
    "        for i, el in enumerate(array):\n",
    "            if abs(el)<10**(-9):\n",
    "                rescaled_arr[i]=0\n",
    "            else:\n",
    "                rescaled_arr[i]=scale*array[i]\n",
    "\n",
    "        np.savetxt(full_path, rescaled_arr, delimiter=',',newline=',',fmt='%.10f')\n",
    "        # Remove trailing comma from the file\n",
    "        with open(full_path, 'r+') as f:\n",
    "            f.seek(0, 2)  # Move the cursor to the end of the file\n",
    "            f.seek(f.tell() - 1, 0)  # Move one character back from the end\n",
    "            if f.read(1) == ',':  # Check if the last character is a comma\n",
    "                f.seek(f.tell() - 1, 0)  # Move one character back from the end again\n",
    "                f.truncate()  # Remove the trailing comma\n",
    "        # Append a newline at the end of the file\n",
    "        with open(full_path, 'a') as f:\n",
    "            f.write('\\n')\n",
    "\n",
    "        print(f\"Data successfully exported to {full_path}\")\n",
    "    except Exception as e:\n",
    "        print(f\"Error exporting data to {full_path}: {e}\")"
   ]
  },
  {
   "cell_type": "code",
   "execution_count": 10,
   "metadata": {},
   "outputs": [
    {
     "name": "stdout",
     "output_type": "stream",
     "text": [
      "Data successfully exported to tophat/tophat_500mus_0.3.csv\n"
     ]
    }
   ],
   "source": [
    "scale_list=[0.3]\n",
    "pulse_len=[500000]\n",
    "\n",
    "for scale in scale_list:\n",
    "    for pulse_len in pulse_len:\n",
    "        export_to_csv(tophat(pulse_len),scale, 'tophat', f'tophat_{int(pulse_len/1000)}mus_{scale}.csv')"
   ]
  }
 ],
 "metadata": {
  "kernelspec": {
   "display_name": "data_analysis",
   "language": "python",
   "name": "python3"
  },
  "language_info": {
   "codemirror_mode": {
    "name": "ipython",
    "version": 3
   },
   "file_extension": ".py",
   "mimetype": "text/x-python",
   "name": "python",
   "nbconvert_exporter": "python",
   "pygments_lexer": "ipython3",
   "version": "3.12.7"
  }
 },
 "nbformat": 4,
 "nbformat_minor": 2
}
